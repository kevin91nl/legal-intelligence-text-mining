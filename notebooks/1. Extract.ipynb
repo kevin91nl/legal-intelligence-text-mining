{
 "cells": [
  {
   "cell_type": "markdown",
   "metadata": {},
   "source": [
    "# Extract\n",
    "This notebook is used for extracting information from the given data file (which is a zip file). This file contains many XML files and all of these XML files are parsed. Texts and subjects are extracted from the XML files. All information is finaly stored in another file. In this notebook, the resulting file is loaded into memory and the number of succesfully parsed files is shown."
   ]
  },
  {
   "cell_type": "code",
   "execution_count": 1,
   "metadata": {
    "collapsed": true
   },
   "outputs": [],
   "source": [
    "# Load requires modules\n",
    "%reload_ext autoreload\n",
    "%autoreload\n",
    "%run imports.py"
   ]
  },
  {
   "cell_type": "markdown",
   "metadata": {},
   "source": [
    "## Extracting information\n",
    "The `parse_zip_file` method parses the zip file. Every time an XML file is found, the `extractor.handle_xml_file` method is called. This method locally stores the extracted information. Finally, the data which was found is stored by the `store_dataset` method."
   ]
  },
  {
   "cell_type": "code",
   "execution_count": null,
   "metadata": {
    "collapsed": false
   },
   "outputs": [],
   "source": [
    "# Extract information from the input file\n",
    "extractor = LegalIntelligenceExtractor()\n",
    "parse_zip_file(INPUT_FILE, extractor.handle_xml_file, show_state)\n",
    "store_dataset(extractor.data, DATA_FILE)"
   ]
  },
  {
   "cell_type": "markdown",
   "metadata": {},
   "source": [
    "## Loading information\n",
    "The following piece of code shows how the stored information is loaded by the `load_dataset` method."
   ]
  },
  {
   "cell_type": "code",
   "execution_count": null,
   "metadata": {
    "collapsed": false
   },
   "outputs": [],
   "source": [
    "# Display the number of files which were parsed succesfully\n",
    "dataset = load_dataset(DATA_FILE)\n",
    "print(\"Number of succesfully parsed files:\", len(dataset.files))"
   ]
  },
  {
   "cell_type": "markdown",
   "metadata": {},
   "source": [
    "## Transformations\n",
    "There are lots of transformations possible. In the next code fragment, a few of them are shown."
   ]
  },
  {
   "cell_type": "code",
   "execution_count": 2,
   "metadata": {
    "collapsed": false
   },
   "outputs": [
    {
     "name": "stdout",
     "output_type": "stream",
     "text": [
      "Bestuursrecht  (top level subject):\n",
      "\t Vreemdelingenrecht  (second level subject):\n",
      "\t\t 500  records\n",
      "\t Bestuursprocesrecht  (second level subject):\n",
      "\t\t 11  records\n",
      "\t Socialezekerheidsrecht  (second level subject):\n",
      "\t\t 500  records\n",
      "\t Bestuursstrafrecht  (second level subject):\n",
      "\t\t 40  records\n",
      "\t Mededingingsrecht  (second level subject):\n",
      "\t\t 4  records\n",
      "\t Omgevingsrecht  (second level subject):\n",
      "\t\t 225  records\n",
      "\t Ambtenarenrecht  (second level subject):\n",
      "\t\t 257  records\n",
      "\t Belastingrecht  (second level subject):\n",
      "\t\t 500  records\n",
      "Strafrecht  (top level subject):\n",
      "\t Materieel strafrecht  (second level subject):\n",
      "\t\t 8  records\n",
      "\t Strafprocesrecht  (second level subject):\n",
      "\t\t 9  records\n",
      "Civiel recht  (top level subject):\n",
      "\t Verbintenissenrecht  (second level subject):\n",
      "\t\t 43  records\n",
      "\t Insolventierecht  (second level subject):\n",
      "\t\t 169  records\n",
      "\t Arbeidsrecht  (second level subject):\n",
      "\t\t 126  records\n",
      "\t Intellectueel-eigendomsrecht  (second level subject):\n",
      "\t\t 17  records\n",
      "\t Ondernemingsrecht  (second level subject):\n",
      "\t\t 52  records\n",
      "\t Aanbestedingsrecht  (second level subject):\n",
      "\t\t 20  records\n",
      "\t Burgerlijk procesrecht  (second level subject):\n",
      "\t\t 9  records\n",
      "\t Personen- en familierecht  (second level subject):\n",
      "\t\t 500  records\n",
      "\t Mededingingsrecht  (second level subject):\n",
      "\t\t 4  records\n"
     ]
    }
   ],
   "source": [
    "# Load the dataset\n",
    "dataset = load_dataset(DATA_FILE)\n",
    "# Shuffle it\n",
    "dataset = shuffle_dataset(dataset)\n",
    "# Remove records which do not have a second level subject (so those who only have a top level subject)\n",
    "dataset = filter_incomplete_subjects(dataset)\n",
    "# Remove all records from subjects which have less than 8 records\n",
    "dataset = filter_small_subjects(dataset, 8)\n",
    "# Make sure that all (second level) subjects have at most 500 records (unnecessary records are removed)\n",
    "dataset = chop_large_subjects(dataset, 500)\n",
    "\n",
    "# Show the number of records per top level and per second level subject\n",
    "indices = get_indices(dataset)\n",
    "for target1_name in indices:\n",
    "    print(target1_name, \" (top level subject):\")\n",
    "    for target2_name in indices[target1_name]:\n",
    "        print(\"\\t\", target2_name, \" (second level subject):\")\n",
    "        print(\"\\t\\t\", len(indices[target1_name][target2_name]), \" records\")"
   ]
  },
  {
   "cell_type": "code",
   "execution_count": null,
   "metadata": {
    "collapsed": true
   },
   "outputs": [],
   "source": []
  }
 ],
 "metadata": {
  "kernelspec": {
   "display_name": "Python 3",
   "language": "python",
   "name": "python3"
  },
  "language_info": {
   "codemirror_mode": {
    "name": "ipython",
    "version": 3
   },
   "file_extension": ".py",
   "mimetype": "text/x-python",
   "name": "python",
   "nbconvert_exporter": "python",
   "pygments_lexer": "ipython3",
   "version": "3.5.1"
  }
 },
 "nbformat": 4,
 "nbformat_minor": 0
}
